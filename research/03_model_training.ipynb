{
 "cells": [
  {
   "cell_type": "code",
   "execution_count": 1,
   "metadata": {},
   "outputs": [],
   "source": [
    "import os"
   ]
  },
  {
   "cell_type": "code",
   "execution_count": 2,
   "metadata": {},
   "outputs": [
    {
     "data": {
      "text/plain": [
       "'d:\\\\Kidney-Disease-Classification\\\\research'"
      ]
     },
     "execution_count": 2,
     "metadata": {},
     "output_type": "execute_result"
    }
   ],
   "source": [
    "%pwd"
   ]
  },
  {
   "cell_type": "code",
   "execution_count": 3,
   "metadata": {},
   "outputs": [],
   "source": [
    "os.chdir(\"../\")"
   ]
  },
  {
   "cell_type": "code",
   "execution_count": 4,
   "metadata": {},
   "outputs": [
    {
     "data": {
      "text/plain": [
       "'d:\\\\Kidney-Disease-Classification'"
      ]
     },
     "execution_count": 4,
     "metadata": {},
     "output_type": "execute_result"
    }
   ],
   "source": [
    "%pwd"
   ]
  },
  {
   "cell_type": "code",
   "execution_count": 5,
   "metadata": {},
   "outputs": [],
   "source": [
    "from dataclasses import dataclass\n",
    "from pathlib import Path\n",
    "\n",
    "\n",
    "@dataclass(frozen=True)\n",
    "class TrainingConfig:\n",
    "    root_dir: Path\n",
    "    trained_model_path: Path\n",
    "    updated_base_model_path: Path\n",
    "    training_data: Path\n",
    "    params_epochs: int\n",
    "    params_batch_size: int\n",
    "    params_is_augmentation: bool\n",
    "    params_image_size: list"
   ]
  },
  {
   "cell_type": "code",
   "execution_count": 6,
   "metadata": {},
   "outputs": [],
   "source": [
    "from cnnClassifier.constants import *\n",
    "from cnnClassifier.utils.common import read_yaml, create_directories\n",
    "import tensorflow as tf"
   ]
  },
  {
   "cell_type": "code",
   "execution_count": 7,
   "metadata": {},
   "outputs": [],
   "source": [
    "class ConfigurationManager:\n",
    "    def __init__(\n",
    "        self,\n",
    "        config_filepath = CONFIG_FILE_PATH,\n",
    "        params_filepath = PARAMS_FILE_PATH):\n",
    "\n",
    "        self.config = read_yaml(config_filepath)\n",
    "        self.params = read_yaml(params_filepath)\n",
    "\n",
    "        create_directories([self.config.artifacts_root])\n",
    "\n",
    "\n",
    "    \n",
    "    def get_training_config(self) -> TrainingConfig:\n",
    "        training = self.config.training\n",
    "        prepare_base_model = self.config.prepare_base_model\n",
    "        params = self.params\n",
    "        training_data = os.path.join(self.config.data_ingestion.unzip_dir, \"kidney-ct-scan-image\")\n",
    "        create_directories([\n",
    "            Path(training.root_dir)\n",
    "        ])\n",
    "\n",
    "        training_config = TrainingConfig(\n",
    "            root_dir=Path(training.root_dir),\n",
    "            trained_model_path=Path(training.trained_model_path),\n",
    "            updated_base_model_path=Path(prepare_base_model.updated_base_model_path),\n",
    "            training_data=Path(training_data),\n",
    "            params_epochs=params.EPOCHS,\n",
    "            params_batch_size=params.BATCH_SIZE,\n",
    "            params_is_augmentation=params.AUGMENTATION,\n",
    "            params_image_size=params.IMAGE_SIZE\n",
    "        )\n",
    "\n",
    "        return training_config"
   ]
  },
  {
   "cell_type": "code",
   "execution_count": 8,
   "metadata": {},
   "outputs": [],
   "source": [
    "import os\n",
    "import urllib.request as request \n",
    "from zipfile import ZipFile\n",
    "import tensorflow as tf\n",
    "import time"
   ]
  },
  {
   "cell_type": "code",
   "execution_count": 9,
   "metadata": {},
   "outputs": [],
   "source": [
    "class Training:\n",
    "    def __init__(self, config: TrainingConfig):\n",
    "        self.config = config\n",
    "\n",
    "    \n",
    "    def get_base_model(self):\n",
    "        self.model = tf.keras.models.load_model(\n",
    "            self.config.updated_base_model_path\n",
    "        )\n",
    "\n",
    "        #using keras default built in train_valid generator copied from keras documentation.\n",
    "\n",
    "    def train_valid_generator(self):\n",
    "\n",
    "        datagenerator_kwargs = dict(\n",
    "            rescale = 1./255,\n",
    "            validation_split=0.20\n",
    "        )\n",
    "\n",
    "        dataflow_kwargs = dict(\n",
    "            target_size=self.config.params_image_size[:-1],\n",
    "            batch_size=self.config.params_batch_size,\n",
    "            interpolation=\"bilinear\"\n",
    "        )\n",
    "\n",
    "        valid_datagenerator = tf.keras.preprocessing.image.ImageDataGenerator(\n",
    "            **datagenerator_kwargs\n",
    "        )\n",
    "\n",
    "        self.valid_generator = valid_datagenerator.flow_from_directory(\n",
    "            directory=self.config.training_data,\n",
    "            subset=\"validation\",\n",
    "            shuffle=False,\n",
    "            **dataflow_kwargs\n",
    "        )\n",
    "\n",
    "        if self.config.params_is_augmentation:\n",
    "            train_datagenerator = tf.keras.preprocessing.image.ImageDataGenerator(\n",
    "                rotation_range=40,\n",
    "                horizontal_flip=True,\n",
    "                width_shift_range=0.2,\n",
    "                height_shift_range=0.2,\n",
    "                shear_range=0.2,\n",
    "                zoom_range=0.2,\n",
    "                **datagenerator_kwargs\n",
    "            )\n",
    "        else:\n",
    "            train_datagenerator = valid_datagenerator\n",
    "\n",
    "        self.train_generator = train_datagenerator.flow_from_directory(\n",
    "            directory=self.config.training_data,\n",
    "            subset=\"training\",\n",
    "            shuffle=True,\n",
    "            **dataflow_kwargs\n",
    "        )\n",
    "\n",
    "    \n",
    "    @staticmethod\n",
    "    def save_model(path: Path, model: tf.keras.Model):\n",
    "        model.save(path)\n",
    "\n",
    "\n",
    "\n",
    "    \n",
    "    def train(self):\n",
    "        self.steps_per_epoch = self.train_generator.samples // self.train_generator.batch_size\n",
    "        self.validation_steps = self.valid_generator.samples // self.valid_generator.batch_size\n",
    "\n",
    "        self.model.fit(\n",
    "            self.train_generator,\n",
    "            epochs=self.config.params_epochs,\n",
    "            steps_per_epoch=self.steps_per_epoch,\n",
    "            validation_steps=self.validation_steps,\n",
    "            validation_data=self.valid_generator\n",
    "        )\n",
    "\n",
    "        self.save_model(\n",
    "            path=self.config.trained_model_path,\n",
    "            model=self.model\n",
    "        )"
   ]
  },
  {
   "cell_type": "code",
   "execution_count": 10,
   "metadata": {},
   "outputs": [
    {
     "name": "stdout",
     "output_type": "stream",
     "text": [
      "[2025-01-20 13:34:21,391: INFO: common: yaml file: config\\config.yaml loaded successfully]\n",
      "[2025-01-20 13:34:21,399: INFO: common: yaml file: params.yaml loaded successfully]\n",
      "[2025-01-20 13:34:21,399: INFO: common: created directory at: artifacts]\n",
      "[2025-01-20 13:34:21,407: INFO: common: created directory at: artifacts\\training]\n",
      "Found 93 images belonging to 2 classes.\n",
      "Found 372 images belonging to 2 classes.\n",
      "Epoch 1/30\n",
      "23/23 [==============================] - 194s 8s/step - loss: 10.6425 - accuracy: 0.5924 - val_loss: 1.7491 - val_accuracy: 0.4750\n",
      "Epoch 2/30\n",
      "23/23 [==============================] - 188s 8s/step - loss: 6.1313 - accuracy: 0.6826 - val_loss: 7.7850 - val_accuracy: 0.4375\n",
      "Epoch 3/30\n",
      "23/23 [==============================] - 192s 8s/step - loss: 3.0581 - accuracy: 0.8034 - val_loss: 5.8120 - val_accuracy: 0.4750\n",
      "Epoch 4/30\n",
      "23/23 [==============================] - 209s 9s/step - loss: 2.8921 - accuracy: 0.7697 - val_loss: 0.8129 - val_accuracy: 0.9500\n",
      "Epoch 5/30\n",
      "23/23 [==============================] - 193s 8s/step - loss: 1.4147 - accuracy: 0.8399 - val_loss: 11.4346 - val_accuracy: 0.4000\n",
      "Epoch 6/30\n",
      "23/23 [==============================] - 184s 8s/step - loss: 3.2558 - accuracy: 0.7697 - val_loss: 0.7318 - val_accuracy: 0.8625\n",
      "Epoch 7/30\n",
      "23/23 [==============================] - 183s 8s/step - loss: 2.0710 - accuracy: 0.8258 - val_loss: 0.2163 - val_accuracy: 0.9625\n",
      "Epoch 8/30\n",
      "23/23 [==============================] - 183s 8s/step - loss: 1.3535 - accuracy: 0.8736 - val_loss: 0.0327 - val_accuracy: 0.9750\n",
      "Epoch 9/30\n",
      "23/23 [==============================] - 183s 8s/step - loss: 0.4790 - accuracy: 0.9045 - val_loss: 2.1463 - val_accuracy: 0.7125\n",
      "Epoch 10/30\n",
      "23/23 [==============================] - 182s 8s/step - loss: 2.0056 - accuracy: 0.8287 - val_loss: 0.1721 - val_accuracy: 0.9375\n",
      "Epoch 11/30\n",
      "23/23 [==============================] - 189s 8s/step - loss: 0.4392 - accuracy: 0.9375 - val_loss: 9.1134e-05 - val_accuracy: 1.0000\n",
      "Epoch 12/30\n",
      "23/23 [==============================] - 184s 8s/step - loss: 0.3541 - accuracy: 0.9522 - val_loss: 5.8482e-05 - val_accuracy: 1.0000\n",
      "Epoch 13/30\n",
      "23/23 [==============================] - 196s 9s/step - loss: 0.0617 - accuracy: 0.9888 - val_loss: 1.8204e-05 - val_accuracy: 1.0000\n",
      "Epoch 14/30\n",
      "23/23 [==============================] - 196s 9s/step - loss: 1.2091 - accuracy: 0.8820 - val_loss: 0.1413 - val_accuracy: 0.9375\n",
      "Epoch 15/30\n",
      "23/23 [==============================] - 194s 8s/step - loss: 0.3080 - accuracy: 0.9551 - val_loss: 1.5602e-05 - val_accuracy: 1.0000\n",
      "Epoch 16/30\n",
      "23/23 [==============================] - 194s 8s/step - loss: 1.2605 - accuracy: 0.9242 - val_loss: 0.0491 - val_accuracy: 0.9625\n",
      "Epoch 17/30\n",
      "23/23 [==============================] - 194s 8s/step - loss: 0.3248 - accuracy: 0.9354 - val_loss: 1.3650 - val_accuracy: 0.7375\n",
      "Epoch 18/30\n",
      "23/23 [==============================] - 194s 8s/step - loss: 0.6565 - accuracy: 0.9157 - val_loss: 5.5120e-05 - val_accuracy: 1.0000\n",
      "Epoch 19/30\n",
      "23/23 [==============================] - 203s 9s/step - loss: 0.0967 - accuracy: 0.9810 - val_loss: 4.4143e-04 - val_accuracy: 1.0000\n",
      "Epoch 20/30\n",
      "23/23 [==============================] - 221s 10s/step - loss: 0.7327 - accuracy: 0.9438 - val_loss: 1.1403e-04 - val_accuracy: 1.0000\n",
      "Epoch 21/30\n",
      "23/23 [==============================] - 228s 10s/step - loss: 0.2212 - accuracy: 0.9375 - val_loss: 0.0012 - val_accuracy: 1.0000\n",
      "Epoch 22/30\n",
      "23/23 [==============================] - 219s 10s/step - loss: 0.0934 - accuracy: 0.9803 - val_loss: 3.9565e-04 - val_accuracy: 1.0000\n",
      "Epoch 23/30\n",
      "23/23 [==============================] - 239s 11s/step - loss: 1.0272 - accuracy: 0.8792 - val_loss: 2.9891e-05 - val_accuracy: 1.0000\n",
      "Epoch 24/30\n",
      "23/23 [==============================] - 311s 14s/step - loss: 0.0810 - accuracy: 0.9803 - val_loss: 1.9629e-05 - val_accuracy: 1.0000\n",
      "Epoch 25/30\n",
      "23/23 [==============================] - 259s 12s/step - loss: 0.1605 - accuracy: 0.9691 - val_loss: 2.6553e-06 - val_accuracy: 1.0000\n",
      "Epoch 26/30\n",
      "23/23 [==============================] - 247s 11s/step - loss: 0.1281 - accuracy: 0.9719 - val_loss: 5.9900e-06 - val_accuracy: 1.0000\n",
      "Epoch 27/30\n",
      "23/23 [==============================] - 275s 12s/step - loss: 0.0494 - accuracy: 0.9803 - val_loss: 1.3241e-04 - val_accuracy: 1.0000\n",
      "Epoch 28/30\n",
      "23/23 [==============================] - 282s 12s/step - loss: 0.0754 - accuracy: 0.9888 - val_loss: 2.3514e-06 - val_accuracy: 1.0000\n",
      "Epoch 29/30\n",
      "23/23 [==============================] - 291s 13s/step - loss: 0.0825 - accuracy: 0.9803 - val_loss: 2.6970e-06 - val_accuracy: 1.0000\n",
      "Epoch 30/30\n",
      "23/23 [==============================] - 243s 11s/step - loss: 0.1022 - accuracy: 0.9719 - val_loss: 1.3624e-05 - val_accuracy: 1.0000\n"
     ]
    }
   ],
   "source": [
    "try:\n",
    "    config = ConfigurationManager()\n",
    "    training_config = config.get_training_config()\n",
    "    training = Training(config=training_config)\n",
    "    training.get_base_model()\n",
    "    training.train_valid_generator()\n",
    "    training.train()\n",
    "    \n",
    "except Exception as e:\n",
    "    raise e"
   ]
  },
  {
   "cell_type": "code",
   "execution_count": null,
   "metadata": {},
   "outputs": [],
   "source": []
  }
 ],
 "metadata": {
  "kernelspec": {
   "display_name": "kidney",
   "language": "python",
   "name": "python3"
  },
  "language_info": {
   "codemirror_mode": {
    "name": "ipython",
    "version": 3
   },
   "file_extension": ".py",
   "mimetype": "text/x-python",
   "name": "python",
   "nbconvert_exporter": "python",
   "pygments_lexer": "ipython3",
   "version": "3.8.20"
  }
 },
 "nbformat": 4,
 "nbformat_minor": 2
}
